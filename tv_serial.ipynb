{
 "cells": [
  {
   "cell_type": "code",
   "execution_count": 12,
   "metadata": {},
   "outputs": [],
   "source": [
    "import pandas as pd\n",
    "import numpy as np"
   ]
  },
  {
   "cell_type": "code",
   "execution_count": 13,
   "metadata": {},
   "outputs": [],
   "source": [
    "df = pd.read_csv('Hindi_TV_Serials.csv')"
   ]
  },
  {
   "cell_type": "code",
   "execution_count": 14,
   "metadata": {},
   "outputs": [
    {
     "data": {
      "text/html": [
       "<div>\n",
       "<style scoped>\n",
       "    .dataframe tbody tr th:only-of-type {\n",
       "        vertical-align: middle;\n",
       "    }\n",
       "\n",
       "    .dataframe tbody tr th {\n",
       "        vertical-align: top;\n",
       "    }\n",
       "\n",
       "    .dataframe thead th {\n",
       "        text-align: right;\n",
       "    }\n",
       "</style>\n",
       "<table border=\"1\" class=\"dataframe\">\n",
       "  <thead>\n",
       "    <tr style=\"text-align: right;\">\n",
       "      <th></th>\n",
       "      <th>Name</th>\n",
       "      <th>Ratings</th>\n",
       "      <th>genres</th>\n",
       "      <th>overview</th>\n",
       "      <th>Year</th>\n",
       "      <th>Cast</th>\n",
       "    </tr>\n",
       "  </thead>\n",
       "  <tbody>\n",
       "    <tr>\n",
       "      <th>0</th>\n",
       "      <td>Kyunki Saas Bhi Kabhi Bahu Thi</td>\n",
       "      <td>1.6</td>\n",
       "      <td>Comedy, Drama, Family</td>\n",
       "      <td>A mother-in-law's struggle to put up with her ...</td>\n",
       "      <td>2000–2008</td>\n",
       "      <td>Smriti Malhotra-Irani ,Ronit Roy ,Amar Upadhya...</td>\n",
       "    </tr>\n",
       "    <tr>\n",
       "      <th>1</th>\n",
       "      <td>Kahaani Ghar Ghar Kii</td>\n",
       "      <td>2.1</td>\n",
       "      <td>Drama</td>\n",
       "      <td>The show explored the worlds of its protagonis...</td>\n",
       "      <td>2000–2008</td>\n",
       "      <td>Sakshi Tanwar ,Kiran Karmarkar ,Mita Vashisht ...</td>\n",
       "    </tr>\n",
       "    <tr>\n",
       "      <th>2</th>\n",
       "      <td>Kesar</td>\n",
       "      <td>4.1</td>\n",
       "      <td>Family</td>\n",
       "      <td>A story about a girl, Kesar, who fights for he...</td>\n",
       "      <td>2002–2007</td>\n",
       "      <td>Nandini Singh ,Firoz Ali ,Hiten Tejwani ,Yash ...</td>\n",
       "    </tr>\n",
       "    <tr>\n",
       "      <th>3</th>\n",
       "      <td>Kaahin Kissii Roz</td>\n",
       "      <td>6.0</td>\n",
       "      <td>Thriller</td>\n",
       "      <td>Shaina is beautiful and talented. Kunal is sua...</td>\n",
       "      <td>2001–2004</td>\n",
       "      <td>Yash Tonk ,Sudha Chandran ,Mouli Ganguly ,Shwe...</td>\n",
       "    </tr>\n",
       "    <tr>\n",
       "      <th>4</th>\n",
       "      <td>K. Street Pali Hill</td>\n",
       "      <td>7.4</td>\n",
       "      <td>Thriller</td>\n",
       "      <td>A story about three friends relation, emotions...</td>\n",
       "      <td>2004–2006</td>\n",
       "      <td>Ashwini Kalsekar ,Vikram Kapadia ,Jaswir Kaur ...</td>\n",
       "    </tr>\n",
       "  </tbody>\n",
       "</table>\n",
       "</div>"
      ],
      "text/plain": [
       "                             Name  Ratings                 genres  \\\n",
       "0  Kyunki Saas Bhi Kabhi Bahu Thi      1.6  Comedy, Drama, Family   \n",
       "1           Kahaani Ghar Ghar Kii      2.1                  Drama   \n",
       "2                           Kesar      4.1                 Family   \n",
       "3               Kaahin Kissii Roz      6.0               Thriller   \n",
       "4             K. Street Pali Hill      7.4               Thriller   \n",
       "\n",
       "                                            overview       Year  \\\n",
       "0  A mother-in-law's struggle to put up with her ...  2000–2008   \n",
       "1  The show explored the worlds of its protagonis...  2000–2008   \n",
       "2  A story about a girl, Kesar, who fights for he...  2002–2007   \n",
       "3  Shaina is beautiful and talented. Kunal is sua...  2001–2004   \n",
       "4  A story about three friends relation, emotions...  2004–2006   \n",
       "\n",
       "                                                Cast  \n",
       "0  Smriti Malhotra-Irani ,Ronit Roy ,Amar Upadhya...  \n",
       "1  Sakshi Tanwar ,Kiran Karmarkar ,Mita Vashisht ...  \n",
       "2  Nandini Singh ,Firoz Ali ,Hiten Tejwani ,Yash ...  \n",
       "3  Yash Tonk ,Sudha Chandran ,Mouli Ganguly ,Shwe...  \n",
       "4  Ashwini Kalsekar ,Vikram Kapadia ,Jaswir Kaur ...  "
      ]
     },
     "execution_count": 14,
     "metadata": {},
     "output_type": "execute_result"
    }
   ],
   "source": [
    "df.head()"
   ]
  },
  {
   "cell_type": "code",
   "execution_count": 15,
   "metadata": {},
   "outputs": [
    {
     "data": {
      "text/plain": [
       "genres\n",
       "Drama                       314\n",
       "Comedy                       79\n",
       "Drama, Romance               38\n",
       "Romance                      32\n",
       "Reality-TV                   30\n",
       "                           ... \n",
       "Drama, Musical                1\n",
       "Action, Biography, Drama      1\n",
       "Romance, Thriller             1\n",
       "Fantasy, Thriller             1\n",
       "Comedy, Drama, Mystery        1\n",
       "Name: count, Length: 95, dtype: int64"
      ]
     },
     "execution_count": 15,
     "metadata": {},
     "output_type": "execute_result"
    }
   ],
   "source": [
    "df['genres'].value_counts()"
   ]
  },
  {
   "cell_type": "code",
   "execution_count": 17,
   "metadata": {},
   "outputs": [
    {
     "data": {
      "text/plain": [
       "<744x3499 sparse matrix of type '<class 'numpy.float64'>'\n",
       "\twith 4580 stored elements in Compressed Sparse Row format>"
      ]
     },
     "execution_count": 17,
     "metadata": {},
     "output_type": "execute_result"
    }
   ],
   "source": [
    "from sklearn.feature_extraction.text import TfidfVectorizer\n",
    "\n",
    "tf = TfidfVectorizer(analyzer='word', ngram_range=(1, 3), min_df=1, stop_words='english')\n",
    "\n",
    "\n",
    "tfidf_matrix = tf.fit_transform(df['Name'])\n",
    "tfidf_matrix"
   ]
  },
  {
   "cell_type": "code",
   "execution_count": 19,
   "metadata": {},
   "outputs": [],
   "source": [
    "from sklearn.metrics.pairwise import linear_kernel\n",
    "from sklearn.metrics.pairwise import linear_kernel\n",
    "from sklearn.metrics.pairwise import cosine_similarity\n",
    "\n",
    "\n",
    "cos=cosine_similarities = linear_kernel(tfidf_matrix, tfidf_matrix)"
   ]
  },
  {
   "cell_type": "code",
   "execution_count": 21,
   "metadata": {},
   "outputs": [
    {
     "data": {
      "text/plain": [
       "Name\n",
       "Kyunki Saas Bhi Kabhi Bahu Thi           0\n",
       "Kahaani Ghar Ghar Kii                    1\n",
       "Kesar                                    2\n",
       "Kaahin Kissii Roz                        3\n",
       "K. Street Pali Hill                      4\n",
       "                                      ... \n",
       "Kaamnaa                                739\n",
       "Dhadkan Zindaggi Kii                   740\n",
       "Mose Chhal Kiye Jaaye                  741\n",
       "Jagannath Aur Purvi Ki Dosti Anokhi    742\n",
       "Shark Tank India                       743\n",
       "Length: 744, dtype: int64"
      ]
     },
     "execution_count": 21,
     "metadata": {},
     "output_type": "execute_result"
    }
   ],
   "source": [
    "df_new=pd.Series(df.index,index=df['Name']).drop_duplicates()\n",
    "df_new"
   ]
  },
  {
   "cell_type": "code",
   "execution_count": 22,
   "metadata": {},
   "outputs": [],
   "source": [
    "def recom_movie(Name, cos=cos):\n",
    "    # Get the index of the movie that matches the title\n",
    "    idx = df_new[Name]\n",
    "    \n",
    "    # Get the pairwsie similarity scores of all movies with that movie\n",
    "    cos_scores = list(enumerate(cos[idx]))\n",
    "    \n",
    "    # Sort the movies based on the similarity scores\n",
    "    cos_scores = sorted(cos_scores,key=lambda x: x[1],reverse = True) \n",
    "    # Get the scores of the 10 most similar movie\n",
    "    cos_scores = cos_scores[1:11] # will print 10 Recommended Movie \n",
    "    \n",
    "    # Get the movie indices\n",
    "    Serial_df_new = [i[0] for i in cos_scores]\n",
    "    \n",
    "     # Return the top 10 most similar movies\n",
    "    return df['Name'].iloc[Serial_df_new]"
   ]
  },
  {
   "cell_type": "code",
   "execution_count": 25,
   "metadata": {},
   "outputs": [
    {
     "data": {
      "text/plain": [
       "286                  Ghar Jamai\n",
       "522                 Swaran Ghar\n",
       "557                Chidiya Ghar\n",
       "234                Piya Ka Ghar\n",
       "416              Ghar Ek Mandir\n",
       "216    Ghar Ki Lakshmi Betiyann\n",
       "185      Zindagi Mere Ghar Aana\n",
       "91          Sajan Ghar Jana Hai\n",
       "740        Dhadkan Zindaggi Kii\n",
       "375       Bhabi Ji Ghar Par Hai\n",
       "Name: Name, dtype: object"
      ]
     },
     "execution_count": 25,
     "metadata": {},
     "output_type": "execute_result"
    }
   ],
   "source": [
    "\n",
    "recom_movie('Kahaani Ghar Ghar Kii')"
   ]
  },
  {
   "cell_type": "code",
   "execution_count": 26,
   "metadata": {},
   "outputs": [
    {
     "data": {
      "text/plain": [
       "699                            Bhoot Aaya\n",
       "102                    Ssshhhh... Koi Hai\n",
       "603                Jassi Jaissi Koi Nahin\n",
       "700    Tera Mujhse Hai Pehle Ka Naata Koi\n",
       "95                            Siya Ke Ram\n",
       "404                      Shaadi Ke Siyape\n",
       "151                 P.O.W. Bandi Yuddh Ke\n",
       "236                            Qubool Hai\n",
       "464                             Kaun Hai?\n",
       "636                     Ek Duje Ke Vaaste\n",
       "Name: Name, dtype: object"
      ]
     },
     "execution_count": 26,
     "metadata": {},
     "output_type": "execute_result"
    }
   ],
   "source": [
    "recom_movie('Koi Laut Ke Aaya Hai')"
   ]
  },
  {
   "cell_type": "code",
   "execution_count": 27,
   "metadata": {},
   "outputs": [],
   "source": [
    "import pickle\n",
    "\n",
    "# Save the TF-IDF vectorizer\n",
    "with open('tfidf_vectorizer.pkl', 'wb') as f:\n",
    "    pickle.dump(tf, f)\n",
    "\n",
    "# Save the cosine similarity matrix\n",
    "with open('cosine_similarity.pkl', 'wb') as f:\n",
    "    pickle.dump(cos, f)"
   ]
  },
  {
   "cell_type": "code",
   "execution_count": null,
   "metadata": {},
   "outputs": [],
   "source": []
  }
 ],
 "metadata": {
  "kernelspec": {
   "display_name": "base",
   "language": "python",
   "name": "python3"
  },
  "language_info": {
   "codemirror_mode": {
    "name": "ipython",
    "version": 3
   },
   "file_extension": ".py",
   "mimetype": "text/x-python",
   "name": "python",
   "nbconvert_exporter": "python",
   "pygments_lexer": "ipython3",
   "version": "3.11.5"
  }
 },
 "nbformat": 4,
 "nbformat_minor": 2
}
